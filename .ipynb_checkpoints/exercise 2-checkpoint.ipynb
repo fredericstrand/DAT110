{
 "cells": [
  {
   "cell_type": "markdown",
   "id": "e6b57996",
   "metadata": {},
   "source": [
    "# Exercise 2"
   ]
  },
  {
   "cell_type": "markdown",
   "id": "f8e260a4",
   "metadata": {},
   "source": [
    "## Task 1"
   ]
  },
  {
   "cell_type": "code",
   "execution_count": 1,
   "id": "800f8c5a",
   "metadata": {},
   "outputs": [],
   "source": [
    "import pandas as pd\n",
    "\n",
    "df = pd.DataFrame({'Sucess A':[112,261],\n",
    "                   'Total A':[141,400],\n",
    "                   'Sucess B':[323, 71],\n",
    "                   'Total B':[410,115]})\n",
    "df.to_csv('data/oppgave-2-kreftbehandling', sep=',', index=False, encoding='utf-8')"
   ]
  },
  {
   "cell_type": "code",
   "execution_count": 2,
   "id": "8e7b5830",
   "metadata": {
    "scrolled": true
   },
   "outputs": [
    {
     "data": {
      "text/html": [
       "<div>\n",
       "<style scoped>\n",
       "    .dataframe tbody tr th:only-of-type {\n",
       "        vertical-align: middle;\n",
       "    }\n",
       "\n",
       "    .dataframe tbody tr th {\n",
       "        vertical-align: top;\n",
       "    }\n",
       "\n",
       "    .dataframe thead th {\n",
       "        text-align: right;\n",
       "    }\n",
       "</style>\n",
       "<table border=\"1\" class=\"dataframe\">\n",
       "  <thead>\n",
       "    <tr style=\"text-align: right;\">\n",
       "      <th></th>\n",
       "      <th>Sucess A</th>\n",
       "      <th>Total A</th>\n",
       "      <th>Sucess B</th>\n",
       "      <th>Total B</th>\n",
       "    </tr>\n",
       "  </thead>\n",
       "  <tbody>\n",
       "    <tr>\n",
       "      <th>0</th>\n",
       "      <td>112</td>\n",
       "      <td>141</td>\n",
       "      <td>323</td>\n",
       "      <td>410</td>\n",
       "    </tr>\n",
       "    <tr>\n",
       "      <th>1</th>\n",
       "      <td>261</td>\n",
       "      <td>400</td>\n",
       "      <td>71</td>\n",
       "      <td>115</td>\n",
       "    </tr>\n",
       "  </tbody>\n",
       "</table>\n",
       "</div>"
      ],
      "text/plain": [
       "   Sucess A  Total A  Sucess B  Total B\n",
       "0       112      141       323      410\n",
       "1       261      400        71      115"
      ]
     },
     "execution_count": 2,
     "metadata": {},
     "output_type": "execute_result"
    }
   ],
   "source": [
    "df = pd.read_csv('data/oppgave-2-kreftbehandling')\n",
    "df"
   ]
  },
  {
   "cell_type": "code",
   "execution_count": 3,
   "id": "aa9744f6",
   "metadata": {},
   "outputs": [
    {
     "name": "stdout",
     "output_type": "stream",
     "text": [
      "   Percentage Success A  Percentage Success B\n",
      "0                  79.4                  78.8\n",
      "1                  65.2                  61.7\n",
      "\n",
      "Overall success A: 68.9%,   Overall success B: 75.0%\n"
     ]
    }
   ],
   "source": [
    "# Lage en ny DataFrame\n",
    "df_prosent = pd.DataFrame()\n",
    "\n",
    "# Beregne prosent for suksess for hver underkategori\n",
    "df_prosent['Percentage Success A'] = round((df['Sucess A'] / df['Total A']) * 100, 1)\n",
    "df_prosent['Percentage Success B'] = round((df['Sucess B'] / df['Total B']) * 100, 1)\n",
    "print(df_prosent)\n",
    "\n",
    "# Beregne total suksess\n",
    "print(f\"\\nOverall success A: {round(df['Sucess A'].sum() / df['Total A'].sum() * 100, 1)}%,   Overall success B: {round(df['Sucess B'].sum() / df['Total B'].sum() * 100, 1)}%\")"
   ]
  },
  {
   "cell_type": "markdown",
   "id": "f801facf",
   "metadata": {},
   "source": [
    "## Task 2"
   ]
  },
  {
   "cell_type": "code",
   "execution_count": 41,
   "id": "37b12b75",
   "metadata": {},
   "outputs": [
    {
     "data": {
      "text/html": [
       "<div>\n",
       "<style scoped>\n",
       "    .dataframe tbody tr th:only-of-type {\n",
       "        vertical-align: middle;\n",
       "    }\n",
       "\n",
       "    .dataframe tbody tr th {\n",
       "        vertical-align: top;\n",
       "    }\n",
       "\n",
       "    .dataframe thead th {\n",
       "        text-align: right;\n",
       "    }\n",
       "</style>\n",
       "<table border=\"1\" class=\"dataframe\">\n",
       "  <thead>\n",
       "    <tr style=\"text-align: right;\">\n",
       "      <th></th>\n",
       "      <th>Date</th>\n",
       "      <th>Mag.</th>\n",
       "      <th>SN Position</th>\n",
       "      <th>Type</th>\n",
       "    </tr>\n",
       "  </thead>\n",
       "  <tbody>\n",
       "    <tr>\n",
       "      <th>0</th>\n",
       "      <td>2015 02 07</td>\n",
       "      <td>19.1</td>\n",
       "      <td>09 09 35.06 +33 07 22.1</td>\n",
       "      <td>IIn</td>\n",
       "    </tr>\n",
       "    <tr>\n",
       "      <th>1</th>\n",
       "      <td>2015 12 16</td>\n",
       "      <td>17.8</td>\n",
       "      <td>02 47 34.51 +34 54 33.6</td>\n",
       "      <td>Ia</td>\n",
       "    </tr>\n",
       "    <tr>\n",
       "      <th>2</th>\n",
       "      <td>2015 12 12</td>\n",
       "      <td>17.3</td>\n",
       "      <td>23 24 49.03 +15 16 52.0</td>\n",
       "      <td>IIn</td>\n",
       "    </tr>\n",
       "    <tr>\n",
       "      <th>3</th>\n",
       "      <td>2015 12 06</td>\n",
       "      <td>18.0</td>\n",
       "      <td>05 14 06.24 -10 37 30.0</td>\n",
       "      <td>IIP</td>\n",
       "    </tr>\n",
       "    <tr>\n",
       "      <th>4</th>\n",
       "      <td>2015 12 07</td>\n",
       "      <td>15.9</td>\n",
       "      <td>11 23 45.88 -01 06 21.2</td>\n",
       "      <td>Ia</td>\n",
       "    </tr>\n",
       "  </tbody>\n",
       "</table>\n",
       "</div>"
      ],
      "text/plain": [
       "         Date  Mag.              SN Position Type\n",
       "0  2015 02 07  19.1  09 09 35.06 +33 07 22.1  IIn\n",
       "1  2015 12 16  17.8  02 47 34.51 +34 54 33.6   Ia\n",
       "2  2015 12 12  17.3  23 24 49.03 +15 16 52.0  IIn\n",
       "3  2015 12 06  18.0  05 14 06.24 -10 37 30.0  IIP\n",
       "4  2015 12 07  15.9  11 23 45.88 -01 06 21.2   Ia"
      ]
     },
     "execution_count": 41,
     "metadata": {},
     "output_type": "execute_result"
    }
   ],
   "source": [
    "import pandas as pd\n",
    "\n",
    "df_supernova = pd.read_csv(\"data/SN_list_large.csv\",delimiter=',')\n",
    "df_supernova.head()"
   ]
  },
  {
   "cell_type": "code",
   "execution_count": 42,
   "id": "45bc5de4",
   "metadata": {
    "scrolled": true
   },
   "outputs": [
    {
     "ename": "KeyError",
     "evalue": "\"['Position'] not found in axis\"",
     "output_type": "error",
     "traceback": [
      "\u001b[0;31m---------------------------------------------------------------------------\u001b[0m",
      "\u001b[0;31mKeyError\u001b[0m                                  Traceback (most recent call last)",
      "Cell \u001b[0;32mIn[42], line 1\u001b[0m\n\u001b[0;32m----> 1\u001b[0m \u001b[43mdf_supernova\u001b[49m\u001b[38;5;241;43m.\u001b[39;49m\u001b[43mdrop\u001b[49m\u001b[43m(\u001b[49m\u001b[38;5;124;43m'\u001b[39;49m\u001b[38;5;124;43mPosition\u001b[39;49m\u001b[38;5;124;43m'\u001b[39;49m\u001b[43m,\u001b[49m\u001b[43maxis\u001b[49m\u001b[38;5;241;43m=\u001b[39;49m\u001b[38;5;241;43m1\u001b[39;49m\u001b[43m,\u001b[49m\u001b[43minplace\u001b[49m\u001b[38;5;241;43m=\u001b[39;49m\u001b[38;5;28;43;01mTrue\u001b[39;49;00m\u001b[43m)\u001b[49m\n\u001b[1;32m      2\u001b[0m df_supernova\u001b[38;5;241m.\u001b[39mhead()\n",
      "File \u001b[0;32m~/Documents/DAT110/env/lib/python3.10/site-packages/pandas/core/frame.py:5258\u001b[0m, in \u001b[0;36mDataFrame.drop\u001b[0;34m(self, labels, axis, index, columns, level, inplace, errors)\u001b[0m\n\u001b[1;32m   5110\u001b[0m \u001b[38;5;28;01mdef\u001b[39;00m \u001b[38;5;21mdrop\u001b[39m(\n\u001b[1;32m   5111\u001b[0m     \u001b[38;5;28mself\u001b[39m,\n\u001b[1;32m   5112\u001b[0m     labels: IndexLabel \u001b[38;5;241m=\u001b[39m \u001b[38;5;28;01mNone\u001b[39;00m,\n\u001b[0;32m   (...)\u001b[0m\n\u001b[1;32m   5119\u001b[0m     errors: IgnoreRaise \u001b[38;5;241m=\u001b[39m \u001b[38;5;124m\"\u001b[39m\u001b[38;5;124mraise\u001b[39m\u001b[38;5;124m\"\u001b[39m,\n\u001b[1;32m   5120\u001b[0m ) \u001b[38;5;241m-\u001b[39m\u001b[38;5;241m>\u001b[39m DataFrame \u001b[38;5;241m|\u001b[39m \u001b[38;5;28;01mNone\u001b[39;00m:\n\u001b[1;32m   5121\u001b[0m \u001b[38;5;250m    \u001b[39m\u001b[38;5;124;03m\"\"\"\u001b[39;00m\n\u001b[1;32m   5122\u001b[0m \u001b[38;5;124;03m    Drop specified labels from rows or columns.\u001b[39;00m\n\u001b[1;32m   5123\u001b[0m \n\u001b[0;32m   (...)\u001b[0m\n\u001b[1;32m   5256\u001b[0m \u001b[38;5;124;03m            weight  1.0     0.8\u001b[39;00m\n\u001b[1;32m   5257\u001b[0m \u001b[38;5;124;03m    \"\"\"\u001b[39;00m\n\u001b[0;32m-> 5258\u001b[0m     \u001b[38;5;28;01mreturn\u001b[39;00m \u001b[38;5;28;43msuper\u001b[39;49m\u001b[43m(\u001b[49m\u001b[43m)\u001b[49m\u001b[38;5;241;43m.\u001b[39;49m\u001b[43mdrop\u001b[49m\u001b[43m(\u001b[49m\n\u001b[1;32m   5259\u001b[0m \u001b[43m        \u001b[49m\u001b[43mlabels\u001b[49m\u001b[38;5;241;43m=\u001b[39;49m\u001b[43mlabels\u001b[49m\u001b[43m,\u001b[49m\n\u001b[1;32m   5260\u001b[0m \u001b[43m        \u001b[49m\u001b[43maxis\u001b[49m\u001b[38;5;241;43m=\u001b[39;49m\u001b[43maxis\u001b[49m\u001b[43m,\u001b[49m\n\u001b[1;32m   5261\u001b[0m \u001b[43m        \u001b[49m\u001b[43mindex\u001b[49m\u001b[38;5;241;43m=\u001b[39;49m\u001b[43mindex\u001b[49m\u001b[43m,\u001b[49m\n\u001b[1;32m   5262\u001b[0m \u001b[43m        \u001b[49m\u001b[43mcolumns\u001b[49m\u001b[38;5;241;43m=\u001b[39;49m\u001b[43mcolumns\u001b[49m\u001b[43m,\u001b[49m\n\u001b[1;32m   5263\u001b[0m \u001b[43m        \u001b[49m\u001b[43mlevel\u001b[49m\u001b[38;5;241;43m=\u001b[39;49m\u001b[43mlevel\u001b[49m\u001b[43m,\u001b[49m\n\u001b[1;32m   5264\u001b[0m \u001b[43m        \u001b[49m\u001b[43minplace\u001b[49m\u001b[38;5;241;43m=\u001b[39;49m\u001b[43minplace\u001b[49m\u001b[43m,\u001b[49m\n\u001b[1;32m   5265\u001b[0m \u001b[43m        \u001b[49m\u001b[43merrors\u001b[49m\u001b[38;5;241;43m=\u001b[39;49m\u001b[43merrors\u001b[49m\u001b[43m,\u001b[49m\n\u001b[1;32m   5266\u001b[0m \u001b[43m    \u001b[49m\u001b[43m)\u001b[49m\n",
      "File \u001b[0;32m~/Documents/DAT110/env/lib/python3.10/site-packages/pandas/core/generic.py:4549\u001b[0m, in \u001b[0;36mNDFrame.drop\u001b[0;34m(self, labels, axis, index, columns, level, inplace, errors)\u001b[0m\n\u001b[1;32m   4547\u001b[0m \u001b[38;5;28;01mfor\u001b[39;00m axis, labels \u001b[38;5;129;01min\u001b[39;00m axes\u001b[38;5;241m.\u001b[39mitems():\n\u001b[1;32m   4548\u001b[0m     \u001b[38;5;28;01mif\u001b[39;00m labels \u001b[38;5;129;01mis\u001b[39;00m \u001b[38;5;129;01mnot\u001b[39;00m \u001b[38;5;28;01mNone\u001b[39;00m:\n\u001b[0;32m-> 4549\u001b[0m         obj \u001b[38;5;241m=\u001b[39m \u001b[43mobj\u001b[49m\u001b[38;5;241;43m.\u001b[39;49m\u001b[43m_drop_axis\u001b[49m\u001b[43m(\u001b[49m\u001b[43mlabels\u001b[49m\u001b[43m,\u001b[49m\u001b[43m \u001b[49m\u001b[43maxis\u001b[49m\u001b[43m,\u001b[49m\u001b[43m \u001b[49m\u001b[43mlevel\u001b[49m\u001b[38;5;241;43m=\u001b[39;49m\u001b[43mlevel\u001b[49m\u001b[43m,\u001b[49m\u001b[43m \u001b[49m\u001b[43merrors\u001b[49m\u001b[38;5;241;43m=\u001b[39;49m\u001b[43merrors\u001b[49m\u001b[43m)\u001b[49m\n\u001b[1;32m   4551\u001b[0m \u001b[38;5;28;01mif\u001b[39;00m inplace:\n\u001b[1;32m   4552\u001b[0m     \u001b[38;5;28mself\u001b[39m\u001b[38;5;241m.\u001b[39m_update_inplace(obj)\n",
      "File \u001b[0;32m~/Documents/DAT110/env/lib/python3.10/site-packages/pandas/core/generic.py:4591\u001b[0m, in \u001b[0;36mNDFrame._drop_axis\u001b[0;34m(self, labels, axis, level, errors, only_slice)\u001b[0m\n\u001b[1;32m   4589\u001b[0m         new_axis \u001b[38;5;241m=\u001b[39m axis\u001b[38;5;241m.\u001b[39mdrop(labels, level\u001b[38;5;241m=\u001b[39mlevel, errors\u001b[38;5;241m=\u001b[39merrors)\n\u001b[1;32m   4590\u001b[0m     \u001b[38;5;28;01melse\u001b[39;00m:\n\u001b[0;32m-> 4591\u001b[0m         new_axis \u001b[38;5;241m=\u001b[39m \u001b[43maxis\u001b[49m\u001b[38;5;241;43m.\u001b[39;49m\u001b[43mdrop\u001b[49m\u001b[43m(\u001b[49m\u001b[43mlabels\u001b[49m\u001b[43m,\u001b[49m\u001b[43m \u001b[49m\u001b[43merrors\u001b[49m\u001b[38;5;241;43m=\u001b[39;49m\u001b[43merrors\u001b[49m\u001b[43m)\u001b[49m\n\u001b[1;32m   4592\u001b[0m     indexer \u001b[38;5;241m=\u001b[39m axis\u001b[38;5;241m.\u001b[39mget_indexer(new_axis)\n\u001b[1;32m   4594\u001b[0m \u001b[38;5;66;03m# Case for non-unique axis\u001b[39;00m\n\u001b[1;32m   4595\u001b[0m \u001b[38;5;28;01melse\u001b[39;00m:\n",
      "File \u001b[0;32m~/Documents/DAT110/env/lib/python3.10/site-packages/pandas/core/indexes/base.py:6699\u001b[0m, in \u001b[0;36mIndex.drop\u001b[0;34m(self, labels, errors)\u001b[0m\n\u001b[1;32m   6697\u001b[0m \u001b[38;5;28;01mif\u001b[39;00m mask\u001b[38;5;241m.\u001b[39many():\n\u001b[1;32m   6698\u001b[0m     \u001b[38;5;28;01mif\u001b[39;00m errors \u001b[38;5;241m!=\u001b[39m \u001b[38;5;124m\"\u001b[39m\u001b[38;5;124mignore\u001b[39m\u001b[38;5;124m\"\u001b[39m:\n\u001b[0;32m-> 6699\u001b[0m         \u001b[38;5;28;01mraise\u001b[39;00m \u001b[38;5;167;01mKeyError\u001b[39;00m(\u001b[38;5;124mf\u001b[39m\u001b[38;5;124m\"\u001b[39m\u001b[38;5;132;01m{\u001b[39;00m\u001b[38;5;28mlist\u001b[39m(labels[mask])\u001b[38;5;132;01m}\u001b[39;00m\u001b[38;5;124m not found in axis\u001b[39m\u001b[38;5;124m\"\u001b[39m)\n\u001b[1;32m   6700\u001b[0m     indexer \u001b[38;5;241m=\u001b[39m indexer[\u001b[38;5;241m~\u001b[39mmask]\n\u001b[1;32m   6701\u001b[0m \u001b[38;5;28;01mreturn\u001b[39;00m \u001b[38;5;28mself\u001b[39m\u001b[38;5;241m.\u001b[39mdelete(indexer)\n",
      "\u001b[0;31mKeyError\u001b[0m: \"['Position'] not found in axis\""
     ]
    }
   ],
   "source": [
    "df_supernova.drop('Position',axis=1,inplace=True)\n",
    "df_supernova.head()"
   ]
  },
  {
   "cell_type": "markdown",
   "id": "e55ede4d",
   "metadata": {},
   "source": [
    "In the context of the given problem, which involves sampling supernova data, using different clustering types can offer insights into the distribution of supernovae over time and their corresponding magnitudes. Here's an interpretation of each clustering type:\n",
    "\n",
    "> **Simple Random Sampling:**\n",
    "    Simple random sampling involves randomly selecting observations from the entire dataset without any specific grouping or structure.\n",
    "    In the context of supernovae, this method randomly selects magnitudes, offering a basic representation of the overall brightness distribution without considering any temporal patterns or grouping.\n",
    "\n",
    "> **Clustered Sampling:**\n",
    "    Clustered sampling involves dividing the dataset into distinct groups or clusters based on certain characteristics and then sampling from each cluster independently.\n",
    "    In the context of supernovae, clustering in time helps capture potential patterns or trends in supernova occurrences over different periods. By dividing the dataset into clusters based on discovery dates and sampling from each cluster, we can observe if there are any changes or fluctuations in supernova magnitudes over time.\n",
    "\n",
    "> **Stratified Sampling:**\n",
    "    Stratified sampling involves dividing the dataset into homogeneous subgroups or strata based on specific characteristics and then sampling from each stratum.\n",
    "    In the context of supernovae, stratified sampling based on supernova types (Ia, II, and IIn) acknowledges the differences in brightness distributions among different types of supernovae. By sampling from each stratum, we ensure that the sample represents the distribution of magnitudes within each supernova type accurately.\n",
    "\n",
    "Interpreting the results of these sampling methods can provide valuable insights into the distribution and characteristics of supernovae. Simple random sampling offers a broad overview, while clustered and stratified sampling allow for a more detailed analysis by considering temporal patterns and supernova types, respectively. Comparing the sampled distributions obtained from different clustering types can help identify trends, anomalies, or correlations within the supernova dataset."
   ]
  },
  {
   "cell_type": "code",
   "execution_count": 49,
   "id": "008348de",
   "metadata": {},
   "outputs": [
    {
     "data": {
      "text/plain": [
       "[18.4, 18.6, 18.7, 18.1, 17.5]"
      ]
     },
     "execution_count": 49,
     "metadata": {},
     "output_type": "execute_result"
    }
   ],
   "source": [
    "# Task 2.1\n",
    "import random\n",
    "\n",
    "simple_random_sample = random.choices(df_supernova['Mag.'].tolist(), k=100)\n",
    "simple_random_sample[:5]"
   ]
  },
  {
   "cell_type": "code",
   "execution_count": 56,
   "id": "83ae2c6f",
   "metadata": {},
   "outputs": [
    {
     "data": {
      "text/plain": [
       "[23.4, 24.1, 16.8, 16.9, 18.6]"
      ]
     },
     "execution_count": 56,
     "metadata": {},
     "output_type": "execute_result"
    }
   ],
   "source": [
    "# Task 2.2\n",
    "\n",
    "df_supernova['Date'] = pd.to_datetime(df_supernova['Date'])\n",
    "df_supernova['year'] = df_supernova['Date'].dt.year\n",
    "num_clusters = 5\n",
    "samples_per_cluster = 20\n",
    "clustered_samples = []\n",
    "for cluster_id in range(num_clusters):\n",
    "    cluster_data = df_supernova[(df_supernova['year'] >= 2000 + cluster_id * 2) & \n",
    "                               (df_supernova['year'] < 2000 + (cluster_id + 1) * 2)]\n",
    "    cluster_samples = random.choices(cluster_data['Mag.'].tolist(), k=samples_per_cluster)\n",
    "    clustered_samples.extend(cluster_samples)\n",
    "    \n",
    "clustered_samples[:5]"
   ]
  },
  {
   "cell_type": "code",
   "execution_count": 61,
   "id": "f530d10a",
   "metadata": {},
   "outputs": [
    {
     "data": {
      "text/plain": [
       "[17.9, 18.6, 22.5, 16.7, 17.7]"
      ]
     },
     "execution_count": 61,
     "metadata": {},
     "output_type": "execute_result"
    }
   ],
   "source": [
    "# Task 2.3 \n",
    "\n",
    "relevant_types = ['Ia', 'II', 'IIn']\n",
    "\n",
    "stratified_samples = []\n",
    "for sn_type in relevant_types:\n",
    "    type_data = df_supernova[df_supernova['Type'] == sn_type]\n",
    "    type_samples = random.choices(type_data['Mag.'].tolist(), k=33)\n",
    "    stratified_samples.extend(type_samples)\n",
    "    \n",
    "stratified_samples[:5]"
   ]
  },
  {
   "cell_type": "code",
   "execution_count": 62,
   "id": "d52b7ed7",
   "metadata": {},
   "outputs": [
    {
     "data": {
      "image/png": "[encoded data removed]",
      "text/plain": [
       "<Figure size 1000x600 with 1 Axes>"
      ]
     },
     "metadata": {},
     "output_type": "display_data"
    }
   ],
   "source": [
    "# Task 2.3.1 - Make a histogram \n",
    "\n",
    "import matplotlib.pyplot as plt\n",
    "\n",
    "plt.figure(figsize=(10, 6))\n",
    "plt.hist(simple_random_sample, bins=10, alpha=0.5, label='Simple Random Sampling')\n",
    "plt.hist(clustered_samples, bins=10, alpha=0.5, label='Clustered Sampling')\n",
    "plt.hist(stratified_samples, bins=10, alpha=0.5, label='Stratified Sampling')\n",
    "plt.xlabel('Magnitude')\n",
    "plt.ylabel('Frequency')\n",
    "plt.title('Sampling Methods Comparison')\n",
    "plt.legend()\n",
    "plt.savefig('sampling_histograms.png')\n",
    "plt.show()"
   ]
  },
  {
   "cell_type": "code",
   "execution_count": null,
   "id": "dce8073c",
   "metadata": {},
   "outputs": [],
   "source": []
  }
 ],
 "metadata": {
  "kernelspec": {
   "display_name": "Python 3 (ipykernel)",
   "language": "python",
   "name": "python3"
  },
  "language_info": {
   "codemirror_mode": {
    "name": "ipython",
    "version": 3
   },
   "file_extension": ".py",
   "mimetype": "text/x-python",
   "name": "python",
   "nbconvert_exporter": "python",
   "pygments_lexer": "ipython3",
   "version": "3.10.12"
  }
 },
 "nbformat": 4,
 "nbformat_minor": 5
}
