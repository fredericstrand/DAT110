{
 "cells": [
  {
   "cell_type": "code",
   "execution_count": 1,
   "id": "b0083408",
   "metadata": {},
   "outputs": [],
   "source": [
    "import numpy as np"
   ]
  },
  {
   "cell_type": "code",
   "execution_count": 4,
   "id": "b2f82526",
   "metadata": {},
   "outputs": [
    {
     "data": {
      "text/plain": [
       "array([0, 0, 0, 0, 0, 0, 0, 0, 0, 0, 0, 1, 1, 1, 1, 1, 1, 1, 1, 1])"
      ]
     },
     "execution_count": 4,
     "metadata": {},
     "output_type": "execute_result"
    }
   ],
   "source": [
    "# Generating the data\n",
    "patients = np.array([0]*11 + [1]*9)\n",
    "patients"
   ]
  },
  {
   "cell_type": "code",
   "execution_count": 15,
   "id": "82e736b2",
   "metadata": {},
   "outputs": [],
   "source": [
    "results = list()\n",
    "\n",
    "for _ in range(10000):\n",
    "    random_v_group = np.random.choice(patients, size=14, replace=False)\n",
    "    fraction_non_infected = np.sum(random_v_group) / len(random_v_group)\n",
    "    results.append(fraction_non_infected)\n",
    "    \n",
    "#result = np.sum(results) / len(results)"
   ]
  },
  {
   "cell_type": "code",
   "execution_count": 28,
   "id": "cab1695f",
   "metadata": {},
   "outputs": [
    {
     "data": {
      "image/png": "[encoded data removed]",
      "text/plain": [
       "<Figure size 700x500 with 1 Axes>"
      ]
     },
     "metadata": {},
     "output_type": "display_data"
    }
   ],
   "source": [
    "# Plot the distribution\n",
    "import matplotlib.pyplot as plt\n",
    "\n",
    "plt.figure(figsize=(7,5))\n",
    "plt.hist(results, bins=100, density=True, cumulative=-1)\n",
    "plt.axvline(x=9/14, color='red')\n",
    "plt.yscale('log')\n",
    "plt.show()"
   ]
  },
  {
   "cell_type": "code",
   "execution_count": null,
   "id": "d41a16d6",
   "metadata": {},
   "outputs": [],
   "source": []
  }
 ],
 "metadata": {
  "kernelspec": {
   "display_name": "Python 3 (ipykernel)",
   "language": "python",
   "name": "python3"
  },
  "language_info": {
   "codemirror_mode": {
    "name": "ipython",
    "version": 3
   },
   "file_extension": ".py",
   "mimetype": "text/x-python",
   "name": "python",
   "nbconvert_exporter": "python",
   "pygments_lexer": "ipython3",
   "version": "3.10.12"
  }
 },
 "nbformat": 4,
 "nbformat_minor": 5
}
