{
 "cells": [
  {
   "cell_type": "markdown",
   "id": "cf420c82",
   "metadata": {},
   "source": [
    "# Exercise 3\n",
    "\n",
    "## Task 1"
   ]
  },
  {
   "cell_type": "markdown",
   "id": "153a040a",
   "metadata": {},
   "source": [
    "### 1.1\n",
    "\n",
    "Main Steps:\n",
    "\n",
    "1. Accept data and optional bin edges as input.\n",
    "2. Determine bin edges if not provided.\n",
    "3. Initialize a dictionary to store bin counts.\n",
    "4. Iterate through data points and count them into appropriate bins.\n",
    "5. Return the dictionary of bin counts.\n",
    "\n",
    "Sub-Problems:\n",
    "* **Determine Bin Edges (if not provided):**\n",
    "Input: Data points, number of bins (optional).\n",
    "Output: List of bin edges.\n",
    "\n",
    "* **Count Data Points into Bins:**\n",
    "Input: Data points, bin edges.\n",
    "Output: Dictionary of bin counts.\n"
   ]
  },
  {
   "cell_type": "code",
   "execution_count": 4,
   "id": "7fb27895",
   "metadata": {},
   "outputs": [],
   "source": [
    "# 1.2 Implementasjon\n",
    "\n",
    "def determine_bin_edges(data, num_bins=None):\n",
    "    \"\"\"\n",
    "    Determine bin edges if not provided by the user.\n",
    "    \"\"\"\n",
    "    \n",
    "    if num_bins is None:\n",
    "        num_bins = int(len(data) ** 0.5)\n",
    "\n",
    "    min_val = min(data)\n",
    "    max_val = max(data)\n",
    "    bin_width = (max_val - min_val) / num_bins\n",
    "\n",
    "    bin_edges = [min_val + i * bin_width for i in range(num_bins)]\n",
    "    bin_edges.append(max_val)\n",
    "\n",
    "    return bin_edges\n",
    "\n",
    "\n",
    "def histogram(data, bin_edges=None):\n",
    "    \"\"\"\n",
    "    Compute histogram of given data points.\n",
    "    \"\"\"\n",
    "    \n",
    "    if bin_edges is None:\n",
    "        bin_edges = determine_bin_edges(data)\n",
    "\n",
    "    bin_counts = {i: 0 for i in range(len(bin_edges) - 1)}\n",
    "\n",
    "    for point in data:\n",
    "        for i in range(len(bin_edges) - 1):\n",
    "            if bin_edges[i] <= point < bin_edges[i + 1]:\n",
    "                bin_counts[i] += 1\n",
    "                break\n",
    "\n",
    "    return bin_counts"
   ]
  },
  {
   "cell_type": "code",
   "execution_count": 7,
   "id": "1e44f4cd",
   "metadata": {},
   "outputs": [
    {
     "name": "stdout",
     "output_type": "stream",
     "text": [
      "Custom Histogram:\n",
      "{0: 4, 1: 3, 2: 12, 3: 2, 4: 3}\n",
      "\n",
      "NumPy Histogram:\n",
      "{0: 2, 1: 2, 2: 1, 3: 2, 4: 7, 5: 5, 6: 0, 7: 2, 8: 2, 9: 2}\n",
      "\n",
      "Are the outputs equivalent? False\n"
     ]
    }
   ],
   "source": [
    "# 1.3\n",
    "import numpy as np\n",
    "\n",
    "data = np.random.normal(loc=0, scale=1, size=25)\n",
    "\n",
    "custom_hist = histogram(data)\n",
    "\n",
    "np_hist, bin_edges_np = np.histogram(data)\n",
    "\n",
    "print(\"Custom Histogram:\")\n",
    "print(custom_hist)\n",
    "print(\"\\nNumPy Histogram:\")\n",
    "print(dict(zip(range(len(bin_edges_np) - 1), np_hist)))\n",
    "\n",
    "print(\"\\nAre the outputs equivalent?\", custom_hist == dict(zip(range(len(bin_edges_np) - 1), np_hist)))\n",
    "\n"
   ]
  },
  {
   "cell_type": "code",
   "execution_count": 9,
   "id": "4b8f8e81",
   "metadata": {},
   "outputs": [],
   "source": [
    "# 1.4 Playing with histograms and number of bin\n",
    "\n",
    "import matplotlib.pyplot as plt\n",
    "import os\n",
    "\n",
    "def generate_histograms():\n",
    "    n_samples = [25, 100, 1000]\n",
    "    n_bins = [10, 50, 100]\n",
    "    folder_name = \"histograms\"\n",
    "    \n",
    "    # Create folder if it doesn't exist\n",
    "    if not os.path.exists(folder_name):\n",
    "        os.makedirs(folder_name)\n",
    "\n",
    "    for samples in n_samples:\n",
    "        for bins in n_bins:\n",
    "            data = np.random.normal(loc=0, scale=1, size=samples)\n",
    "\n",
    "            plt.hist(data, bins=bins, color='blue', alpha=0.7)\n",
    "            plt.title(f'Histogram for {samples} Samples and {bins} Bins')\n",
    "            plt.xlabel('Value')\n",
    "            plt.ylabel('Frequency')\n",
    "\n",
    "            filename = f'hist_{samples}_{bins}.jpg'\n",
    "\n",
    "            plt.savefig(os.path.join('plots/', filename))\n",
    "\n",
    "            plt.close()\n",
    "\n",
    "generate_histograms()\n"
   ]
  },
  {
   "cell_type": "code",
   "execution_count": null,
   "id": "da410dba",
   "metadata": {},
   "outputs": [],
   "source": []
  }
 ],
 "metadata": {
  "kernelspec": {
   "display_name": "Python 3 (ipykernel)",
   "language": "python",
   "name": "python3"
  },
  "language_info": {
   "codemirror_mode": {
    "name": "ipython",
    "version": 3
   },
   "file_extension": ".py",
   "mimetype": "text/x-python",
   "name": "python",
   "nbconvert_exporter": "python",
   "pygments_lexer": "ipython3",
   "version": "3.10.12"
  }
 },
 "nbformat": 4,
 "nbformat_minor": 5
}
