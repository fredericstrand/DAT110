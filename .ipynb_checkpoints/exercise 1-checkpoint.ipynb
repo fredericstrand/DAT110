{
 "cells": [
  {
   "cell_type": "code",
   "execution_count": 4,
   "id": "231043c2",
   "metadata": {},
   "outputs": [],
   "source": [
    "# 1.4\n",
    "import numpy as np\n",
    "import pandas as pd\n",
    "import matplotlib.pyplot as plt\n",
    "import scipy"
   ]
  },
  {
   "cell_type": "markdown",
   "id": "4cd9c7f9",
   "metadata": {},
   "source": [
    "## Task 2:\n",
    "* Numerical continous: Enhver verdi. Her snakker vi ofte om målinger. For eksempel høyde, fordi høyde er et kontinuerlig spekter med verdier.\n",
    "* Numerical discrete: Hele verdier. For eksempel antall barn. Dette er fordi du ikke kan ha et halvt barn.\n",
    "* Categorical nominal: Forskjellige kategorier uten en rekkefølge. For eksempel postkoder. Her plasseres man i en kategori, men det er ingen \"rangering\" mellom dem.\n",
    "* Categorical ordinal: Forskjellige kategorier med en rekkefølge. For eksempel plassering i en konkurranse. Her vil det også være en rangering.\n"
   ]
  },
  {
   "cell_type": "markdown",
   "id": "0efcdeda",
   "metadata": {},
   "source": [
    "## Task 3"
   ]
  },
  {
   "cell_type": "code",
   "execution_count": 5,
   "id": "f58fd826",
   "metadata": {},
   "outputs": [
    {
     "data": {
      "text/html": [
       "<div>\n",
       "<style scoped>\n",
       "    .dataframe tbody tr th:only-of-type {\n",
       "        vertical-align: middle;\n",
       "    }\n",
       "\n",
       "    .dataframe tbody tr th {\n",
       "        vertical-align: top;\n",
       "    }\n",
       "\n",
       "    .dataframe thead th {\n",
       "        text-align: right;\n",
       "    }\n",
       "</style>\n",
       "<table border=\"1\" class=\"dataframe\">\n",
       "  <thead>\n",
       "    <tr style=\"text-align: right;\">\n",
       "      <th></th>\n",
       "      <th>SN</th>\n",
       "      <th>Host Galaxy</th>\n",
       "      <th>Date</th>\n",
       "      <th>R.A.</th>\n",
       "      <th>Decl.</th>\n",
       "      <th>Offset</th>\n",
       "      <th>Mag.</th>\n",
       "      <th>Disc. Ref.</th>\n",
       "      <th>SN Position</th>\n",
       "      <th>Posn. Ref.</th>\n",
       "      <th>Type</th>\n",
       "      <th>SN.1</th>\n",
       "      <th>Discoverer(s)</th>\n",
       "    </tr>\n",
       "  </thead>\n",
       "  <tbody>\n",
       "    <tr>\n",
       "      <th>0</th>\n",
       "      <td>2015bh</td>\n",
       "      <td>NGC 2770</td>\n",
       "      <td>2015 02 07</td>\n",
       "      <td>09 09.6</td>\n",
       "      <td>+33 07</td>\n",
       "      <td>16E   4S</td>\n",
       "      <td>19.1</td>\n",
       "      <td>CBET 4229</td>\n",
       "      <td>09 09 35.06 +33 07 22.1</td>\n",
       "      <td>CBET 4229</td>\n",
       "      <td>IIn</td>\n",
       "      <td>2015bh</td>\n",
       "      <td>Howerton, Drake et al. (Catalina Real-time Tra...</td>\n",
       "    </tr>\n",
       "    <tr>\n",
       "      <th>1</th>\n",
       "      <td>2015bg</td>\n",
       "      <td>Anon.</td>\n",
       "      <td>2015 12 16</td>\n",
       "      <td>02 47.6</td>\n",
       "      <td>+34 55</td>\n",
       "      <td>13E   4N</td>\n",
       "      <td>17.8</td>\n",
       "      <td>CBET 4226</td>\n",
       "      <td>02 47 34.51 +34 54 33.6</td>\n",
       "      <td>CBET 4226</td>\n",
       "      <td>Ia</td>\n",
       "      <td>2015bg</td>\n",
       "      <td>Maticic (PIKA)</td>\n",
       "    </tr>\n",
       "    <tr>\n",
       "      <th>2</th>\n",
       "      <td>2015bf</td>\n",
       "      <td>NGC 7653</td>\n",
       "      <td>2015 12 12</td>\n",
       "      <td>23 24.8</td>\n",
       "      <td>+15 17</td>\n",
       "      <td>4W  20N</td>\n",
       "      <td>17.3</td>\n",
       "      <td>CBET 4219</td>\n",
       "      <td>23 24 49.03 +15 16 52.0</td>\n",
       "      <td>CBET 4219</td>\n",
       "      <td>IIn</td>\n",
       "      <td>2015bf</td>\n",
       "      <td>Itagaki</td>\n",
       "    </tr>\n",
       "    <tr>\n",
       "      <th>3</th>\n",
       "      <td>2015be</td>\n",
       "      <td>NGC 1843</td>\n",
       "      <td>2015 12 06</td>\n",
       "      <td>05 14.1</td>\n",
       "      <td>-10 38</td>\n",
       "      <td>1E   6N</td>\n",
       "      <td>18.0</td>\n",
       "      <td>CBET 4218</td>\n",
       "      <td>05 14 06.24 -10 37 30.0</td>\n",
       "      <td>CBET 4218</td>\n",
       "      <td>IIP</td>\n",
       "      <td>2015be</td>\n",
       "      <td>Stegman, Zheng, Filippenko (LOSS)</td>\n",
       "    </tr>\n",
       "    <tr>\n",
       "      <th>4</th>\n",
       "      <td>2015bd</td>\n",
       "      <td>NGC 3662</td>\n",
       "      <td>2015 12 07</td>\n",
       "      <td>11 23.8</td>\n",
       "      <td>-01 06</td>\n",
       "      <td>8W   3S</td>\n",
       "      <td>15.9</td>\n",
       "      <td>CBET 4217</td>\n",
       "      <td>11 23 45.88 -01 06 21.2</td>\n",
       "      <td>CBET 4217</td>\n",
       "      <td>Ia</td>\n",
       "      <td>2015bd</td>\n",
       "      <td>Itagaki</td>\n",
       "    </tr>\n",
       "  </tbody>\n",
       "</table>\n",
       "</div>"
      ],
      "text/plain": [
       "       SN Host Galaxy        Date     R.A.   Decl.    Offset  Mag. Disc. Ref.  \\\n",
       "0  2015bh    NGC 2770  2015 02 07  09 09.6  +33 07  16E   4S  19.1  CBET 4229   \n",
       "1  2015bg       Anon.  2015 12 16  02 47.6  +34 55  13E   4N  17.8  CBET 4226   \n",
       "2  2015bf    NGC 7653  2015 12 12  23 24.8  +15 17   4W  20N  17.3  CBET 4219   \n",
       "3  2015be    NGC 1843  2015 12 06  05 14.1  -10 38   1E   6N  18.0  CBET 4218   \n",
       "4  2015bd    NGC 3662  2015 12 07  11 23.8  -01 06   8W   3S  15.9  CBET 4217   \n",
       "\n",
       "               SN Position Posn. Ref. Type    SN.1  \\\n",
       "0  09 09 35.06 +33 07 22.1  CBET 4229  IIn  2015bh   \n",
       "1  02 47 34.51 +34 54 33.6  CBET 4226   Ia  2015bg   \n",
       "2  23 24 49.03 +15 16 52.0  CBET 4219  IIn  2015bf   \n",
       "3  05 14 06.24 -10 37 30.0  CBET 4218  IIP  2015be   \n",
       "4  11 23 45.88 -01 06 21.2  CBET 4217   Ia  2015bd   \n",
       "\n",
       "                                       Discoverer(s)  \n",
       "0  Howerton, Drake et al. (Catalina Real-time Tra...  \n",
       "1                                     Maticic (PIKA)  \n",
       "2                                            Itagaki  \n",
       "3                  Stegman, Zheng, Filippenko (LOSS)  \n",
       "4                                            Itagaki  "
      ]
     },
     "execution_count": 5,
     "metadata": {},
     "output_type": "execute_result"
    }
   ],
   "source": [
    "\n",
    "df = pd.read_csv(\"data/SN_list-1.csv\")\n",
    "df.head()"
   ]
  },
  {
   "cell_type": "code",
   "execution_count": 6,
   "id": "5a281abb",
   "metadata": {},
   "outputs": [
    {
     "name": "stdout",
     "output_type": "stream",
     "text": [
      "<class 'pandas.core.frame.DataFrame'>\n",
      "RangeIndex: 60 entries, 0 to 59\n",
      "Data columns (total 13 columns):\n",
      " #   Column         Non-Null Count  Dtype  \n",
      "---  ------         --------------  -----  \n",
      " 0   SN             60 non-null     object \n",
      " 1   Host Galaxy    60 non-null     object \n",
      " 2   Date           60 non-null     object \n",
      " 3   R.A.           60 non-null     object \n",
      " 4   Decl.          60 non-null     object \n",
      " 5   Offset         57 non-null     object \n",
      " 6   Mag.           60 non-null     float64\n",
      " 7   Disc. Ref.     60 non-null     object \n",
      " 8   SN Position    60 non-null     object \n",
      " 9   Posn. Ref.     60 non-null     object \n",
      " 10  Type           60 non-null     object \n",
      " 11  SN.1           60 non-null     object \n",
      " 12  Discoverer(s)  60 non-null     object \n",
      "dtypes: float64(1), object(12)\n",
      "memory usage: 6.2+ KB\n"
     ]
    }
   ],
   "source": [
    "df.info()"
   ]
  },
  {
   "cell_type": "code",
   "execution_count": 7,
   "id": "f1deb4cc",
   "metadata": {},
   "outputs": [
    {
     "data": {
      "text/plain": [
       "60"
      ]
     },
     "execution_count": 7,
     "metadata": {},
     "output_type": "execute_result"
    }
   ],
   "source": [
    "len(df)"
   ]
  },
  {
   "cell_type": "code",
   "execution_count": 9,
   "id": "0c70b492",
   "metadata": {},
   "outputs": [
    {
     "data": {
      "image/png": "[encoded data removed]",
      "text/plain": [
       "<Figure size 640x480 with 1 Axes>"
      ]
     },
     "metadata": {},
     "output_type": "display_data"
    }
   ],
   "source": [
    "df[\"Type\"].hist();"
   ]
  },
  {
   "cell_type": "code",
   "execution_count": null,
   "id": "3ed346ae",
   "metadata": {},
   "outputs": [],
   "source": []
  }
 ],
 "metadata": {
  "kernelspec": {
   "display_name": "Python 3 (ipykernel)",
   "language": "python",
   "name": "python3"
  },
  "language_info": {
   "codemirror_mode": {
    "name": "ipython",
    "version": 3
   },
   "file_extension": ".py",
   "mimetype": "text/x-python",
   "name": "python",
   "nbconvert_exporter": "python",
   "pygments_lexer": "ipython3",
   "version": "3.10.12"
  }
 },
 "nbformat": 4,
 "nbformat_minor": 5
}
